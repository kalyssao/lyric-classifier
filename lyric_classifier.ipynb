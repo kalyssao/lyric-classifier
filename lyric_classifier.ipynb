{
 "cells": [
  {
   "cell_type": "code",
   "execution_count": 11,
   "metadata": {
    "collapsed": true
   },
   "outputs": [],
   "source": [
    "import re\n",
    "import pickle\n",
    "import pandas as pd\n",
    "from sklearn.externals import joblib\n",
    "\n",
    "from sklearn import svm, model_selection\n",
    "from sklearn.preprocessing import LabelEncoder\n",
    "from sklearn.feature_extraction.text import TfidfVectorizer\n",
    "from sklearn.metrics import accuracy_score"
   ]
  },
  {
   "cell_type": "code",
   "execution_count": 2,
   "metadata": {},
   "outputs": [],
   "source": [
    "wizkidLyrics = pd.read_csv(\"/Users/lvz/Developer/lyrics/wizkid_lyrics_processed_cleaned.txt\", header=None)\n",
    "davidoLyrics = pd.read_csv(\"/Users/lvz/Developer/lyrics/davido_lyrics_processed_cleaned.txt\", header=None)\n",
    "\n",
    "wizkidLyrics['artist'] = 'Wizkid'\n",
    "davidoLyrics['artist'] = 'Davido'\n",
    "\n",
    "wizkidLyrics.columns = [\"lyric\", \"artist\"]\n",
    "davidoLyrics.columns = [\"lyric\", \"artist\"]\n",
    "\n",
    "data = pd.concat([wizkidLyrics, davidoLyrics], axis=0)"
   ]
  },
  {
   "cell_type": "code",
   "execution_count": 18,
   "metadata": {},
   "outputs": [
    {
     "data": {
      "text/plain": [
       "<bound method NDFrame.head of                                                 lyric  artist\n0   yeah yeah yeah all i need is one love all i ne...  Wizkid\n1   go outside big time forward heh starboy dey he...  Wizkid\n2   she tell me not to rush she tell me she love m...  Wizkid\n3   let them keep on talking girl we send nobody t...  Wizkid\n4   sexy sexy sexy sexy sexy sexy sexy sexy  wizki...  Wizkid\n..                                                ...     ...\n35  did you ever think that you would be this rich...  Davido\n36  ooh woah ooh woah ooh woah ooh woah  gyal im b...  Davido\n37  pretty little thing im not just trying to get ...  Davido\n38  my desireyour heart send down your fire for a ...  Davido\n39  i see this fine girl coming through she says s...  Davido\n\n[80 rows x 2 columns]>"
      ]
     },
     "execution_count": 18,
     "metadata": {},
     "output_type": "execute_result"
    }
   ],
   "source": [
    "data.head"
   ]
  },
  {
   "cell_type": "code",
   "execution_count": 3,
   "metadata": {},
   "outputs": [],
   "source": [
    "data['lyric'] = data['lyric'].apply(lambda x: x.lower())\n",
    "data['lyric'] = data['lyric'].apply(lambda x: re.sub('([x]{1}\\d{1})', '', x))"
   ]
  },
  {
   "cell_type": "code",
   "execution_count": 21,
   "metadata": {},
   "outputs": [
    {
     "data": {
      "text/plain": [
       "34    Davido\n14    Wizkid\n32    Davido\n2     Davido\n30    Wizkid\n7     Wizkid\n8     Wizkid\n10    Wizkid\n26    Wizkid\n2     Wizkid\n30    Davido\n27    Davido\n34    Wizkid\n35    Davido\n0     Davido\n14    Davido\n25    Wizkid\n13    Wizkid\n5     Wizkid\n17    Wizkid\n6     Davido\n4     Wizkid\n36    Davido\n18    Wizkid\n11    Davido\n17    Davido\n3     Wizkid\n15    Wizkid\n24    Wizkid\n25    Davido\n11    Wizkid\n32    Wizkid\n3     Davido\n0     Wizkid\n21    Wizkid\n16    Wizkid\n35    Wizkid\n31    Wizkid\n12    Wizkid\n39    Wizkid\n24    Davido\n27    Wizkid\n29    Wizkid\n6     Wizkid\n9     Wizkid\n37    Wizkid\n31    Davido\n5     Davido\n28    Wizkid\n15    Davido\n36    Wizkid\n23    Wizkid\n13    Davido\n28    Davido\n10    Davido\n7     Davido\nName: artist, dtype: object"
      ]
     },
     "execution_count": 21,
     "metadata": {},
     "output_type": "execute_result"
    }
   ],
   "source": [
    "X_train, X_test, Y_train, Y_test = model_selection.train_test_split(data['lyric'], data['artist'], test_size=0.3)\n",
    "Y_train"
   ]
  },
  {
   "cell_type": "code",
   "execution_count": 22,
   "metadata": {},
   "outputs": [
    {
     "data": {
      "text/plain": [
       "array([0, 1, 0, 0, 1, 1, 1, 1, 1, 1, 0, 0, 1, 0, 0, 0, 1, 1, 1, 1, 0, 1,\n       0, 1, 0, 0, 1, 1, 1, 0, 1, 1, 0, 1, 1, 1, 1, 1, 1, 1, 0, 1, 1, 1,\n       1, 1, 0, 0, 1, 0, 1, 1, 0, 0, 0, 0])"
      ]
     },
     "execution_count": 22,
     "metadata": {},
     "output_type": "execute_result"
    }
   ],
   "source": [
    "Encoder = LabelEncoder()\n",
    "Y_train = Encoder.fit_transform(Y_train)\n",
    "Y_test = Encoder.fit_transform(Y_test)\n",
    "\n",
    "Y_train"
   ]
  },
  {
   "cell_type": "code",
   "execution_count": 6,
   "metadata": {},
   "outputs": [],
   "source": [
    "vectorizer = TfidfVectorizer()\n",
    "vectorizer.fit_transform(data['lyric'])\n",
    "\n",
    "X_train_vectorized = vectorizer.transform(X_train)\n",
    "X_test_vectorized = vectorizer.transform(X_test)"
   ]
  },
  {
   "cell_type": "code",
   "execution_count": 7,
   "metadata": {},
   "outputs": [
    {
     "name": "stdout",
     "output_type": "stream",
     "text": [
      "SVM Accuracy Score -> 83.33333333333334\n"
     ]
    }
   ],
   "source": [
    "SVM = svm.SVC(C=1.0, kernel='linear', degree=3, gamma='auto')\n",
    "SVM.fit(X_train_vectorized, Y_train)\n",
    "\n",
    "predictions = SVM.predict(X_test_vectorized)\n",
    "print(\"SVM Accuracy Score -> \" + str(accuracy_score(predictions, Y_test)*100))"
   ]
  },
  {
   "cell_type": "code",
   "execution_count": 13,
   "metadata": {},
   "outputs": [
    {
     "ename": "NameError",
     "evalue": "name '__file__' is not defined",
     "traceback": [
      "\u001b[0;31m---------------------------------------------------------------------------\u001b[0m",
      "\u001b[0;31mNameError\u001b[0m                                 Traceback (most recent call last)",
      "\u001b[0;32m<ipython-input-13-4127017012ea>\u001b[0m in \u001b[0;36m<module>\u001b[0;34m\u001b[0m\n\u001b[1;32m      1\u001b[0m \u001b[0;32mimport\u001b[0m \u001b[0mos\u001b[0m\u001b[0;34m\u001b[0m\u001b[0;34m\u001b[0m\u001b[0m\n\u001b[1;32m      2\u001b[0m \u001b[0;34m\u001b[0m\u001b[0m\n\u001b[0;32m----> 3\u001b[0;31m \u001b[0mhere\u001b[0m \u001b[0;34m=\u001b[0m \u001b[0mos\u001b[0m\u001b[0;34m.\u001b[0m\u001b[0mpath\u001b[0m\u001b[0;34m.\u001b[0m\u001b[0mdirname\u001b[0m\u001b[0;34m(\u001b[0m\u001b[0mos\u001b[0m\u001b[0;34m.\u001b[0m\u001b[0mpath\u001b[0m\u001b[0;34m.\u001b[0m\u001b[0mabspath\u001b[0m\u001b[0;34m(\u001b[0m\u001b[0m__file__\u001b[0m\u001b[0;34m)\u001b[0m\u001b[0;34m)\u001b[0m\u001b[0;34m\u001b[0m\u001b[0;34m\u001b[0m\u001b[0m\n\u001b[0m\u001b[1;32m      4\u001b[0m \u001b[0;34m\u001b[0m\u001b[0m\n\u001b[1;32m      5\u001b[0m \u001b[0;32mwith\u001b[0m \u001b[0mopen\u001b[0m\u001b[0;34m(\u001b[0m\u001b[0mos\u001b[0m\u001b[0;34m.\u001b[0m\u001b[0mpath\u001b[0m\u001b[0;34m.\u001b[0m\u001b[0mjoin\u001b[0m\u001b[0;34m(\u001b[0m\u001b[0mhere\u001b[0m\u001b[0;34m,\u001b[0m \u001b[0;34m\"svm_model\"\u001b[0m\u001b[0;34m)\u001b[0m\u001b[0;34m,\u001b[0m \u001b[0;34m\"wb\"\u001b[0m\u001b[0;34m)\u001b[0m \u001b[0;32mas\u001b[0m \u001b[0mfiles\u001b[0m\u001b[0;34m:\u001b[0m\u001b[0;34m\u001b[0m\u001b[0;34m\u001b[0m\u001b[0m\n",
      "\u001b[0;31mNameError\u001b[0m: name '__file__' is not defined"
     ],
     "output_type": "error"
    }
   ],
   "source": [
    "with open(\"svm_model\", \"wb\") as files:\n",
    "    pickle.dump(SVM, files)\n"
   ]
  },
  {
   "cell_type": "code",
   "execution_count": 17,
   "metadata": {},
   "outputs": [
    {
     "data": {
      "text/plain": [
       "array([0])"
      ]
     },
     "execution_count": 17,
     "metadata": {},
     "output_type": "execute_result"
    }
   ],
   "source": [
    "lyric = \"If I tell you say I love you\"\n",
    "df = pd.DataFrame([lyric], columns=[\"lyric\"])\n",
    "vectorized_lyric = vectorizer.transform(df)\n",
    "SVM.predict(vectorized_lyric)"
   ]
  },
  {
   "cell_type": "code",
   "execution_count": 23,
   "metadata": {},
   "outputs": [],
   "source": [
    "with open(\"vectorizer\", \"wb\") as f:\n",
    "    pickle.dump(vectorizer, f)\n"
   ]
  },
  {
   "cell_type": "code",
   "execution_count": null,
   "metadata": {},
   "outputs": [],
   "source": []
  }
 ],
 "metadata": {
  "kernelspec": {
   "display_name": "Python 2",
   "language": "python",
   "name": "python2"
  },
  "language_info": {
   "codemirror_mode": {
    "name": "ipython",
    "version": 2
   },
   "file_extension": ".py",
   "mimetype": "text/x-python",
   "name": "python",
   "nbconvert_exporter": "python",
   "pygments_lexer": "ipython2",
   "version": "2.7.6"
  }
 },
 "nbformat": 4,
 "nbformat_minor": 0
}
